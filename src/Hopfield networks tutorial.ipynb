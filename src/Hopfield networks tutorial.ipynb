{
 "cells": [
  {
   "cell_type": "markdown",
   "metadata": {},
   "source": [
    "# Hopfield neural networks"
   ]
  },
  {
   "cell_type": "markdown",
   "metadata": {},
   "source": [
    "**What is Hopfield Neural network?**\n",
    "\n",
    "This is a network of interconnected nodes (neurons), each governed by dynamic equations of specific form. In the simplest formulation (discrete, and symmetric connectivity matrix), the neuron can be only in two states: +1 (up), and -1 (down). The neuron affects all the connected to it neighboring neurons by synapses: positive connections force the two connected neurons be in the same state, and negative connections tend to make neurons be in the opposite states."
   ]
  },
  {
   "cell_type": "markdown",
   "metadata": {},
   "source": [
    "<img src='../imgs_for_jupyter/HN.png' width=\"240\" height=\"240\" align=\"center\"/>"
   ]
  },
  {
   "cell_type": "markdown",
   "metadata": {},
   "source": [
    "**Equations for discrete Hopfiel Neural network of size $N$ (vector form)**:\n",
    "\n",
    "\n",
    "$$h[n+1] =  Ws[n] + b $$"
   ]
  },
  {
   "cell_type": "markdown",
   "metadata": {},
   "source": [
    "$$s[n+1] = sgn(h[n+1])$$"
   ]
  },
  {
   "cell_type": "markdown",
   "metadata": {},
   "source": [
    "\n",
    "where\n",
    "$\\textbf{n}$ represents a number of a step during the evolution of the system\n",
    "\n",
    "$\\textbf{h}$ - is the column vector hidden state (could be regarded as a membrane potential of a neuron, or $\\textbf{local field}$),\n",
    "\n",
    "$\\textbf{s}$ - is the column vector of states of neurons, (The variable ${ (\\boldsymbol{s_{i}}+1)/2 }$ could be considered as firing rate of $i_{th}$ neuron)\n",
    "\n",
    "$\\textbf{W}$ - is the connectivity matrix $N \\times N$, where the synaptic weights are stored, \n",
    "\n",
    "$\\textbf{b}$ - is the bias (could be considered as a constant current injected into a neuron)\n"
   ]
  },
  {
   "cell_type": "markdown",
   "metadata": {},
   "source": [
    "This network is very similar to dynamics of the atomic spins interacting with each other in solid states.\n",
    "Thus one can define an energy function:\n",
    "\n",
    "For two neurons, the energy of their interaction is : $$H_{i,j} = -w_{ij}s_i s_j$$\n",
    "\n",
    "For the whole system of $N$ neurons:\n",
    "\n",
    "$$ H = - s^{T} W s - (b,s)$$"
   ]
  },
  {
   "cell_type": "markdown",
   "metadata": {},
   "source": [
    "This energy function has the local extrema - the fixed points of the dynamics. Once the network arrives at this states, it no longer escapes it (if there is no noise). If we set $b = 0$ The positions of these local minima are encoded in the weight matrix $W$. This makes the system ideal for storage of binary vectors (patterns). \n",
    "\n",
    "Once the system has learned (the weights has been adjusted accordingly) to store the patterns, one can initialise the system in one of these patterns corrupted with noise, and if the noise level is sufficiently small, the system will relax to the state corresponding to the closest pattern it has memorised."
   ]
  },
  {
   "cell_type": "markdown",
   "metadata": {},
   "source": [
    "# Hebbian learning"
   ]
  },
  {
   "cell_type": "markdown",
   "metadata": {},
   "source": [
    "The simplest rule to learn these patterns by network is: 'The neurons which fire together - wire together' - famous **Hebb's rule**. Lets call the $\\textbf{p}$ patterns to memorise by $\\boldsymbol{\\sigma^{\\nu}}$, where $\\nu \\in \\{1,.,p\\}$. \n",
    "\n",
    "In the context of Hopfield Neural networks the rule will be represented as:\n",
    "$$w_{i,j} = \\frac{1}{N}\\sum_{\\nu}\\boldsymbol{\\sigma^{\\nu}_{i}}\\boldsymbol{\\sigma^{\\nu}_{j}}$$\n",
    "\n",
    "or in vectorised form (if we set $Z = \\{\\boldsymbol{\\sigma^1} ,\\boldsymbol{\\sigma^2} \\dots \\boldsymbol{\\sigma^p}\\}$ - a $N \\times p$ matrix consisting of collumn vectors of patterns stacked together horizontally):\n",
    "\n",
    "$$W = \\frac{1}{N}ZZ^T$$"
   ]
  },
  {
   "cell_type": "markdown",
   "metadata": {},
   "source": [
    "Let's call the $\\boldsymbol{m^{\\nu}} = \\frac{1}{N}(\\sigma^{\\nu},s)$ - an overlap of the current state $s$ with the pattern $\\sigma^{\\nu}$. If we consider an overlaps between two patterns - $\\sigma^{\\nu}$ and $\\sigma^{\\mu}$ - we denote their overlap as $M^{\\mu\\nu}$, where $M$ is the matrix of overlaps of patterns (**Important note**: $M = \\frac{1}{N}Z^T Z$)\n",
    "\n",
    "Consider $s[n]$ to be equal one of the patterns, say $\\sigma^{\\nu}$. Then the state on the next time step is:\n",
    "\n",
    "$$s[n+1] = sgn\\Big(\\frac{1}{N}ZZ^T s[n]\\Big) = sgn\\Big(\\frac{1}{N}ZZ^T \\sigma^{\\nu}\\Big) = sgn\\Big(ZM[:,\\nu]\\Big) = sgn\\Big(\\sum_{\\mu} M^{\\mu\\nu}\\sigma^{\\mu}\\Big) = sgn\\Big(\\sigma^{\\nu} + \\sum_{\\mu \\neq \\nu} M^{\\mu\\nu}\\sigma^{\\mu}\\Big)$$\n",
    "\n",
    "where $M[:,\\nu]$ is a size $p$ column vector of overlaps of patterns in $Z$ with $\\sigma^{\\nu}$. If the overlaps of $\\sigma^{\\nu}$ and other $\\sigma^{\\mu}$ are sufficiently small (which is usually the case for random binary vectors and large $N$) then $s[n+1]$ is exactly equal to $\\sigma^{\\mu}$, which means that the state is a fixed point of the dynamics."
   ]
  },
  {
   "cell_type": "markdown",
   "metadata": {},
   "source": [
    "The asymptotic storage capacity of Hopfield Network with hebbian rule is $O\\big(\\frac{N}{2 \\ln N}\\big)$"
   ]
  },
  {
   "cell_type": "code",
   "execution_count": 22,
   "metadata": {},
   "outputs": [
    {
     "data": {
      "image/png": "[encoded data removed]",
      "text/plain": [
       "<Figure size 432x288 with 6 Axes>"
      ]
     },
     "metadata": {
      "needs_background": "light"
     },
     "output_type": "display_data"
    }
   ],
   "source": [
    "from visualisation import run_visualisation\n",
    "learning_params = {'rule':'Hebb', 'incremental' : True, 'sc' : True}\n",
    "run_visualisation(options=learning_params, flips = 20, sync = True, time = 100, pattern_num = 3, random_patterns = False)"
   ]
  },
  {
   "cell_type": "markdown",
   "metadata": {},
   "source": [
    "# Pseudoinverse rule "
   ]
  },
  {
   "cell_type": "markdown",
   "metadata": {},
   "source": [
    "But Hebbian rule is quite limited in terms of memory capcacity. A better option is **pseudoinverse** rule:\n",
    "\n",
    "$$W = ZZ^+$$\n",
    "\n",
    "where $^+$ denotes Moore-Penrouse inversion: $Z^+ = (Z^TZ)^{-1}Z^T$\n",
    "\n",
    "Consider, once again, $s[n] = \\sigma^{\\nu}$. Then the state on the next time step is:\n",
    "\n",
    "$$s[n+1] = sgn\\Big(ZZ^+ s[n]\\Big) = sgn\\Big(Z(Z^TZ)^{-1}Z^T \\sigma^{\\nu}\\Big) = sgn\\Big(ZM^{-1}M[:,\\nu]\\Big) = sgn(\\sigma^{\\nu})$$\n",
    "\n",
    "So, if there is no noise in the system, and the network is already in state which is represented by one of the patterns, it stays there. And it is much more stable than Hebbian rule!"
   ]
  },
  {
   "cell_type": "markdown",
   "metadata": {},
   "source": [
    "The asymptotic storage capacity of Hopfield Network with pseudoinverse learning rule is $O(N)$. But, it is neither local, nor incremental, so it is not biologically plausible, as the network can't learn patterns one by one (non-incremental), and for the weight update, the synapse requires information which is not available at the spot (non-local) "
   ]
  },
  {
   "cell_type": "code",
   "execution_count": 14,
   "metadata": {},
   "outputs": [
    {
     "data": {
      "image/png": "[encoded data removed]",
      "text/plain": [
       "<Figure size 432x288 with 6 Axes>"
      ]
     },
     "metadata": {
      "needs_background": "light"
     },
     "output_type": "display_data"
    }
   ],
   "source": [
    "from visualisation import run_visualisation\n",
    "learning_params = {'rule':'pseudoinverse', 'sc' : True}\n",
    "run_visualisation(options=learning_params, flips = 40, sync = True, time = 100, pattern_num = 1, random_patterns = False)"
   ]
  },
  {
   "cell_type": "markdown",
   "metadata": {},
   "source": [
    "# Storkey rule"
   ]
  },
  {
   "cell_type": "markdown",
   "metadata": {},
   "source": [
    "There is yet another rule, which performs pretty well, and at the same time is biologically plausible (it's both incremental and local)."
   ]
  },
  {
   "cell_type": "markdown",
   "metadata": {},
   "source": [
    "$$w_{ij} = \\sum_{\\mu}(\\sigma^{\\mu}_i - f_{ij})(\\sigma^{\\mu}_j - f_{ji})$$\n",
    "\n",
    "where $f_{ij}$ is a local field on the neuron $i$ except the contribution of a neuron $j$: \n",
    "\n",
    "$$f_{ij} = \\sum_{k}w_{ik}s_k - w_{ii}s_i - w_{ij}s_j $$"
   ]
  },
  {
   "cell_type": "markdown",
   "metadata": {},
   "source": [
    "The asymptotic storage capacity of Hopfield Network with Storkey learning rule is $O\\Big(\\frac{n}{\\sqrt[3]{4 \\ln n}}\\Big)$"
   ]
  },
  {
   "cell_type": "markdown",
   "metadata": {},
   "source": [
    "According to Storkey's thesis, this rule is an approximation to a pseudoinverse rule.\n",
    "\n",
    "Using Neumann series for inverse matrix ( $(I-T)^{-1} = \\sum_i T^i$ ), one can approximate $(Z^TZ)^{-1}$ term in pseudoinverse rule (but, of course, there is more to it)."
   ]
  },
  {
   "cell_type": "code",
   "execution_count": 2,
   "metadata": {},
   "outputs": [
    {
     "ename": "ValueError",
     "evalue": "matmul: Input operand 1 has a mismatch in its core dimension 0, with gufunc signature (n?,k),(k,m?)->(n?,m?) (size 100 is different from 1)",
     "output_type": "error",
     "traceback": [
      "\u001b[0;31m---------------------------------------------------------------------------\u001b[0m",
      "\u001b[0;31mValueError\u001b[0m                                Traceback (most recent call last)",
      "\u001b[0;32m<ipython-input-2-49a50b2625f2>\u001b[0m in \u001b[0;36m<module>\u001b[0;34m\u001b[0m\n\u001b[1;32m      1\u001b[0m \u001b[0;32mfrom\u001b[0m \u001b[0mvisualisation\u001b[0m \u001b[0;32mimport\u001b[0m \u001b[0mrun_visualisation\u001b[0m\u001b[0;34m\u001b[0m\u001b[0;34m\u001b[0m\u001b[0m\n\u001b[1;32m      2\u001b[0m \u001b[0mlearning_params\u001b[0m \u001b[0;34m=\u001b[0m \u001b[0;34m{\u001b[0m\u001b[0;34m'rule'\u001b[0m\u001b[0;34m:\u001b[0m\u001b[0;34m'StorkeyOriginal'\u001b[0m\u001b[0;34m,\u001b[0m \u001b[0;34m'incremental'\u001b[0m \u001b[0;34m:\u001b[0m \u001b[0;32mTrue\u001b[0m\u001b[0;34m,\u001b[0m \u001b[0;34m'sc'\u001b[0m \u001b[0;34m:\u001b[0m \u001b[0;32mTrue\u001b[0m\u001b[0;34m}\u001b[0m\u001b[0;34m\u001b[0m\u001b[0;34m\u001b[0m\u001b[0m\n\u001b[0;32m----> 3\u001b[0;31m \u001b[0mrun_visualisation\u001b[0m\u001b[0;34m(\u001b[0m\u001b[0moptions\u001b[0m\u001b[0;34m=\u001b[0m\u001b[0mlearning_params\u001b[0m\u001b[0;34m,\u001b[0m \u001b[0mflips\u001b[0m \u001b[0;34m=\u001b[0m \u001b[0;36m20\u001b[0m\u001b[0;34m,\u001b[0m \u001b[0msync\u001b[0m \u001b[0;34m=\u001b[0m \u001b[0;32mTrue\u001b[0m\u001b[0;34m,\u001b[0m \u001b[0mtime\u001b[0m \u001b[0;34m=\u001b[0m \u001b[0;36m100\u001b[0m\u001b[0;34m,\u001b[0m \u001b[0mpattern_num\u001b[0m \u001b[0;34m=\u001b[0m \u001b[0;36m3\u001b[0m\u001b[0;34m,\u001b[0m \u001b[0mrandom_patterns\u001b[0m \u001b[0;34m=\u001b[0m \u001b[0;32mFalse\u001b[0m\u001b[0;34m)\u001b[0m\u001b[0;34m\u001b[0m\u001b[0;34m\u001b[0m\u001b[0m\n\u001b[0m",
      "\u001b[0;32m~/Documents/0Research/Projects/Hopfield_Nets/src/visualisation.py\u001b[0m in \u001b[0;36mrun_visualisation\u001b[0;34m(options, flips, sync, time, pattern_num, random_patterns)\u001b[0m\n\u001b[1;32m     67\u001b[0m         \u001b[0mpatterns\u001b[0m\u001b[0;34m[\u001b[0m\u001b[0;36m3\u001b[0m\u001b[0;34m]\u001b[0m \u001b[0;34m=\u001b[0m \u001b[0mletter_E\u001b[0m\u001b[0;34m.\u001b[0m\u001b[0mflatten\u001b[0m\u001b[0;34m(\u001b[0m\u001b[0;34m)\u001b[0m\u001b[0;34m\u001b[0m\u001b[0;34m\u001b[0m\u001b[0m\n\u001b[1;32m     68\u001b[0m \u001b[0;34m\u001b[0m\u001b[0m\n\u001b[0;32m---> 69\u001b[0;31m     \u001b[0mHN\u001b[0m\u001b[0;34m.\u001b[0m\u001b[0mlearn_patterns\u001b[0m\u001b[0;34m(\u001b[0m\u001b[0mpatterns\u001b[0m\u001b[0;34m,\u001b[0m \u001b[0moptions\u001b[0m\u001b[0;34m=\u001b[0m\u001b[0moptions\u001b[0m\u001b[0;34m)\u001b[0m\u001b[0;34m\u001b[0m\u001b[0;34m\u001b[0m\u001b[0m\n\u001b[0m\u001b[1;32m     70\u001b[0m     \u001b[0mpattern_r\u001b[0m \u001b[0;34m=\u001b[0m \u001b[0mdeepcopy\u001b[0m\u001b[0;34m(\u001b[0m\u001b[0mintroduce_random_flips\u001b[0m\u001b[0;34m(\u001b[0m\u001b[0mpatterns\u001b[0m\u001b[0;34m[\u001b[0m\u001b[0mpattern_num\u001b[0m\u001b[0;34m]\u001b[0m\u001b[0;34m,\u001b[0m \u001b[0mflips\u001b[0m\u001b[0;34m)\u001b[0m\u001b[0;34m)\u001b[0m\u001b[0;34m\u001b[0m\u001b[0;34m\u001b[0m\u001b[0m\n\u001b[1;32m     71\u001b[0m     \u001b[0mretrieved_pattern\u001b[0m \u001b[0;34m=\u001b[0m \u001b[0mHN\u001b[0m\u001b[0;34m.\u001b[0m\u001b[0mretrieve_pattern\u001b[0m\u001b[0;34m(\u001b[0m\u001b[0mpattern_r\u001b[0m\u001b[0;34m,\u001b[0m \u001b[0msync\u001b[0m\u001b[0;34m,\u001b[0m \u001b[0mtime\u001b[0m\u001b[0;34m,\u001b[0m \u001b[0mrecord\u001b[0m\u001b[0;34m=\u001b[0m\u001b[0;32mFalse\u001b[0m\u001b[0;34m)\u001b[0m\u001b[0;34m\u001b[0m\u001b[0;34m\u001b[0m\u001b[0m\n",
      "\u001b[0;32m~/Documents/0Research/Projects/Hopfield_Nets/src/Hopfield_net.py\u001b[0m in \u001b[0;36mlearn_patterns\u001b[0;34m(self, patterns, options)\u001b[0m\n\u001b[1;32m     58\u001b[0m             \u001b[0mself\u001b[0m\u001b[0;34m.\u001b[0m\u001b[0mweights\u001b[0m\u001b[0;34m,\u001b[0m \u001b[0mself\u001b[0m\u001b[0;34m.\u001b[0m\u001b[0mbiases\u001b[0m \u001b[0;34m=\u001b[0m \u001b[0mstorkey_asymmetric\u001b[0m\u001b[0;34m(\u001b[0m\u001b[0mself\u001b[0m\u001b[0;34m.\u001b[0m\u001b[0mnum_neurons\u001b[0m\u001b[0;34m,\u001b[0m \u001b[0mpatterns\u001b[0m\u001b[0;34m,\u001b[0m \u001b[0mself\u001b[0m\u001b[0;34m.\u001b[0m\u001b[0mweights\u001b[0m\u001b[0;34m,\u001b[0m \u001b[0mself\u001b[0m\u001b[0;34m.\u001b[0m\u001b[0mbiases\u001b[0m\u001b[0;34m,\u001b[0m \u001b[0moptions\u001b[0m\u001b[0;34m)\u001b[0m\u001b[0;34m\u001b[0m\u001b[0;34m\u001b[0m\u001b[0m\n\u001b[1;32m     59\u001b[0m         \u001b[0;32melif\u001b[0m \u001b[0mrule\u001b[0m \u001b[0;34m==\u001b[0m\u001b[0;34m'StorkeyOriginal'\u001b[0m\u001b[0;34m:\u001b[0m\u001b[0;34m\u001b[0m\u001b[0;34m\u001b[0m\u001b[0m\n\u001b[0;32m---> 60\u001b[0;31m             \u001b[0mself\u001b[0m\u001b[0;34m.\u001b[0m\u001b[0mweights\u001b[0m\u001b[0;34m,\u001b[0m \u001b[0mself\u001b[0m\u001b[0;34m.\u001b[0m\u001b[0mbiases\u001b[0m \u001b[0;34m=\u001b[0m \u001b[0mstorkey_original\u001b[0m\u001b[0;34m(\u001b[0m\u001b[0mself\u001b[0m\u001b[0;34m.\u001b[0m\u001b[0mnum_neurons\u001b[0m\u001b[0;34m,\u001b[0m \u001b[0mpatterns\u001b[0m\u001b[0;34m,\u001b[0m \u001b[0mself\u001b[0m\u001b[0;34m.\u001b[0m\u001b[0mweights\u001b[0m\u001b[0;34m,\u001b[0m \u001b[0mself\u001b[0m\u001b[0;34m.\u001b[0m\u001b[0mbiases\u001b[0m\u001b[0;34m,\u001b[0m \u001b[0moptions\u001b[0m\u001b[0;34m)\u001b[0m\u001b[0;34m\u001b[0m\u001b[0;34m\u001b[0m\u001b[0m\n\u001b[0m\u001b[1;32m     61\u001b[0m         \u001b[0;32melif\u001b[0m \u001b[0mrule\u001b[0m \u001b[0;34m==\u001b[0m \u001b[0;34m'OptimisedQP'\u001b[0m\u001b[0;34m:\u001b[0m\u001b[0;34m\u001b[0m\u001b[0;34m\u001b[0m\u001b[0m\n\u001b[1;32m     62\u001b[0m             \u001b[0mself\u001b[0m\u001b[0;34m.\u001b[0m\u001b[0mweights\u001b[0m \u001b[0;34m=\u001b[0m \u001b[0moptimisation_quadratic\u001b[0m\u001b[0;34m(\u001b[0m\u001b[0mself\u001b[0m\u001b[0;34m.\u001b[0m\u001b[0mnum_neurons\u001b[0m\u001b[0;34m,\u001b[0m \u001b[0mpatterns\u001b[0m\u001b[0;34m,\u001b[0m \u001b[0mself\u001b[0m\u001b[0;34m.\u001b[0m\u001b[0mweights\u001b[0m\u001b[0;34m,\u001b[0m \u001b[0mself\u001b[0m\u001b[0;34m.\u001b[0m\u001b[0mbiases\u001b[0m\u001b[0;34m,\u001b[0m \u001b[0moptions\u001b[0m\u001b[0;34m)\u001b[0m\u001b[0;34m\u001b[0m\u001b[0;34m\u001b[0m\u001b[0m\n",
      "\u001b[0;32m~/Documents/0Research/Projects/Hopfield_Nets/src/learning_rules.py\u001b[0m in \u001b[0;36mstorkey_original\u001b[0;34m(N, patterns, weights, biases, options)\u001b[0m\n\u001b[1;32m    158\u001b[0m         \u001b[0;32mfor\u001b[0m \u001b[0mi\u001b[0m \u001b[0;32min\u001b[0m \u001b[0mrange\u001b[0m\u001b[0;34m(\u001b[0m\u001b[0mpatterns\u001b[0m\u001b[0;34m.\u001b[0m\u001b[0mshape\u001b[0m\u001b[0;34m[\u001b[0m\u001b[0;36m0\u001b[0m\u001b[0;34m]\u001b[0m\u001b[0;34m)\u001b[0m\u001b[0;34m:\u001b[0m\u001b[0;34m\u001b[0m\u001b[0;34m\u001b[0m\u001b[0m\n\u001b[1;32m    159\u001b[0m             \u001b[0mpattern\u001b[0m \u001b[0;34m=\u001b[0m \u001b[0mdeepcopy\u001b[0m\u001b[0;34m(\u001b[0m\u001b[0mpatterns\u001b[0m\u001b[0;34m[\u001b[0m\u001b[0mi\u001b[0m\u001b[0;34m]\u001b[0m\u001b[0;34m)\u001b[0m\u001b[0;34m.\u001b[0m\u001b[0mreshape\u001b[0m\u001b[0;34m(\u001b[0m\u001b[0;34m-\u001b[0m\u001b[0;36m1\u001b[0m\u001b[0;34m,\u001b[0m \u001b[0;36m1\u001b[0m\u001b[0;34m)\u001b[0m\u001b[0;34m\u001b[0m\u001b[0;34m\u001b[0m\u001b[0m\n\u001b[0;32m--> 160\u001b[0;31m             \u001b[0mA\u001b[0m \u001b[0;34m=\u001b[0m \u001b[0;34m(\u001b[0m\u001b[0;36m1\u001b[0m \u001b[0;34m/\u001b[0m \u001b[0mN\u001b[0m\u001b[0;34m)\u001b[0m \u001b[0;34m*\u001b[0m \u001b[0;34m(\u001b[0m\u001b[0;34m(\u001b[0m\u001b[0mpattern\u001b[0m \u001b[0;34m@\u001b[0m \u001b[0mpattern\u001b[0m\u001b[0;34m)\u001b[0m \u001b[0;34m-\u001b[0m \u001b[0mnp\u001b[0m\u001b[0;34m.\u001b[0m\u001b[0midentity\u001b[0m\u001b[0;34m(\u001b[0m\u001b[0mN\u001b[0m\u001b[0;34m)\u001b[0m\u001b[0;34m)\u001b[0m\u001b[0;34m\u001b[0m\u001b[0;34m\u001b[0m\u001b[0m\n\u001b[0m\u001b[1;32m    161\u001b[0m             \u001b[0mY\u001b[0m \u001b[0;34m=\u001b[0m \u001b[0mA\u001b[0m \u001b[0;34m-\u001b[0m \u001b[0mA\u001b[0m \u001b[0;34m@\u001b[0m \u001b[0mweights\u001b[0m \u001b[0;34m-\u001b[0m \u001b[0mweights\u001b[0m \u001b[0;34m@\u001b[0m \u001b[0mA\u001b[0m\u001b[0;34m\u001b[0m\u001b[0;34m\u001b[0m\u001b[0m\n\u001b[1;32m    162\u001b[0m             \u001b[0;32mif\u001b[0m \u001b[0msc\u001b[0m \u001b[0;34m==\u001b[0m \u001b[0;32mFalse\u001b[0m\u001b[0;34m:\u001b[0m\u001b[0;34m\u001b[0m\u001b[0;34m\u001b[0m\u001b[0m\n",
      "\u001b[0;31mValueError\u001b[0m: matmul: Input operand 1 has a mismatch in its core dimension 0, with gufunc signature (n?,k),(k,m?)->(n?,m?) (size 100 is different from 1)"
     ]
    }
   ],
   "source": [
    "from visualisation import run_visualisation\n",
    "learning_params = {'rule':'StorkeyOriginal', 'incremental' : True, 'sc' : True}\n",
    "run_visualisation(options=learning_params, flips = 20, sync = True, time = 100, pattern_num = 3, random_patterns = False)"
   ]
  },
  {
   "cell_type": "markdown",
   "metadata": {},
   "source": [
    "# Gradient descent and updates of weights"
   ]
  },
  {
   "cell_type": "markdown",
   "metadata": {},
   "source": [
    "One can formulate the task of memorising a pattern as an optimisation task. Suppose we want to memorise a pattern $\\boldsymbol{\\sigma}$. Then, the optimisation task would be:\n",
    "\n",
    "$$\n",
    "\\min_{W} d \\big(\\text{sign}(W\\sigma + b), \\sigma\\big)\n",
    "$$\n",
    "with respect to similarity measure $d(x, y)$. For the sake of example, let's define it as a simple square norm: $d(x,y) = (x-y)^2$"
   ]
  },
  {
   "cell_type": "markdown",
   "metadata": {},
   "source": [
    "The problem with this function is that the derivative of sign function is zero everywere apart from the origin. Which isn't great. But what if we substitute $sign(\\cdot)$ by the some differentiable monotonically increasing function $f(\\lambda\\cdot)$?"
   ]
  },
  {
   "cell_type": "markdown",
   "metadata": {},
   "source": [
    "the function to minimise would be: \n",
    "$$E = \\Big(f\\big(\\lambda (W\\sigma + b)\\big) - \\sigma\\Big)^2$$\n",
    "Taking a gradient of this function elementwise:\n",
    "\n",
    "$$E = \\sum_{k}z_k^2$$\n",
    "\n",
    "where $z_k = \\big(f(\\lambda h_k) - \\sigma_k\\big)$, $h_k = \\sum_{j} w_{kj}\\sigma_j + b_i$\n",
    "\n",
    "$$\n",
    "\\frac{d E}{d w_{ij}} = 2z_i\\frac{d z_i}{d x}\\Big|_{x = \\lambda h_i} = 2\\big(f(\\lambda h_i) - \\sigma_i\\big)\\frac{d f(x)}{d x}\\Big|_{x = \\lambda h_i}\\lambda\\sigma_j\n",
    "$$\n",
    "\n",
    "And thus, as the update of the weights and biases should be proportional to antigradient, to minimise the function:\n",
    "\n",
    "$$\n",
    "\\Delta w_{ij} = - 2\\lambda \\big(f(\\lambda h_i) - \\sigma_i\\big)\\frac{d f(x)}{d x}\\Big|_{x = \\lambda h_i}\\sigma_j\n",
    "$$\n",
    "$$\n",
    "\\Delta b_{i} = - 2\\lambda \\big(f(\\lambda h_i) - \\sigma_i\\big)\\frac{d f(x)}{d x}\\Big|_{x = \\lambda h_i}\n",
    "$$\n",
    "\n",
    "or in vector form:\n",
    "\n",
    "$$\n",
    "\\Delta W = - 2\\lambda \\Big(\\big(f(\\lambda h) - \\sigma\\big) \\odot \\frac{d f(x)}{d x}\\Big|_{x = \\lambda h}\\Big)\\sigma^T\n",
    "$$\n",
    "$$\n",
    "\\Delta b = - 2\\lambda \\Big(\\big(f(\\lambda h) - \\sigma\\big) \\odot \\frac{d f(x)}{d x}\\Big|_{x = \\lambda h}\\Big)\n",
    "$$"
   ]
  },
  {
   "cell_type": "markdown",
   "metadata": {},
   "source": [
    "# DescentL2 rule\n",
    "\n",
    "Taking the function $f(x) = x$, we could write our update rule as follows:\n",
    "\n",
    "$$\n",
    "\\Delta w_{ij} = 2\\lambda \\big(\\sigma_i - \\lambda h_i\\big)\\sigma_j\n",
    "$$\n",
    "$$\n",
    "\\Delta b_{i} = 2\\lambda \\big(\\sigma_i - \\lambda h_i\\big)\n",
    "$$\n",
    "\n",
    "Vectorised form:\n",
    "$$\n",
    "\\Delta W = 2\\lambda \\big(\\sigma - \\lambda h\\big)\\sigma^T\n",
    "$$\n",
    "$$\n",
    "\\Delta b = 2\\lambda \\big(\\sigma - \\lambda h\\big)\n",
    "$$"
   ]
  },
  {
   "cell_type": "markdown",
   "metadata": {},
   "source": [
    "\n",
    "Experimenting with functions further, let's choose $f(x) = tanh(x)$:\n",
    "\n",
    "$$\n",
    "\\Delta w_{ij} = - 2\\lambda \\big(tanh(\\lambda h_i) - \\sigma_i\\big)\\big(1 - tanh(\\lambda h_i)^2\\big)\\sigma_j\n",
    "$$\n",
    "$$\n",
    "\\Delta b_i = - 2\\lambda \\big(tanh(\\lambda h_i) - \\sigma_i\\big)\\big(1 - tanh(\\lambda h_i)^2\\big)\n",
    "$$\n",
    "\n",
    "\n",
    "Vectorised form:\n",
    "$$\n",
    "\\Delta W = - 2\\lambda \\Big(\\big(tanh(\\lambda h) - \\sigma\\big) \\odot \\big(1 - tanh(\\lambda h)^2\\big)\\Big)\\sigma^T\n",
    "$$\n",
    "$$\n",
    "\\Delta b = - 2\\lambda \\Big(\\big(tanh(\\lambda h) - \\sigma\\big) \\odot \\big(1 - tanh(\\lambda h)^2\\big)\\Big)\n",
    "$$\n"
   ]
  },
  {
   "cell_type": "markdown",
   "metadata": {},
   "source": [
    "These two rules are somehow similar to the Storkey rule, but they are non symmetric and are more biologically plausible (as the receiving - postsinaptic - neuron requires only information available at this neuron, and the neuron doesn't have to subtract the contribution of presynaptic neuron from it's local field, as it is the case in Storkey rule). Moreover, now we know how to update biases! The intuition is simple: we have to update our biases as if they are the weighs of connections from a neuron from outside the network, which is always in +1 state"
   ]
  },
  {
   "cell_type": "code",
   "execution_count": 19,
   "metadata": {},
   "outputs": [
    {
     "data": {
      "image/png": "[encoded data removed]",
      "text/plain": [
       "<Figure size 432x288 with 6 Axes>"
      ]
     },
     "metadata": {
      "needs_background": "light"
     },
     "output_type": "display_data"
    }
   ],
   "source": [
    "from visualisation import run_visualisation\n",
    "learning_params = {'rule':'DescentL2Solver', 'incremental' : True, 'sc' : True, 'symm' : True, 'tol' : 1e-3, 'lambda' : 0.5,\n",
    "                  'activation_function' : 'identity'}\n",
    "run_visualisation(options=learning_params, flips = 1, sync = True, time = 100, random_patterns = False)"
   ]
  },
  {
   "cell_type": "markdown",
   "metadata": {},
   "source": [
    "# DescentOverlap rule\n",
    "Let's now change the similarity measure between two vectors:\n",
    "$$ d(x,y) = -(x,y)$$\n",
    "so that if two vectors are aligned parallely they achieve minimum\n",
    "\n",
    "We need to minimise function $E = -\\big(f(\\lambda W \\sigma), \\sigma\\big)$\n",
    "\n",
    "$E = -\\sum_k z_k$, where $z_k = f(\\lambda h_k) \\sigma_k$, and, thus\n",
    "$$\n",
    "\\frac{d E}{d w_{ij}} = -\\frac{d z_i}{d x}\\Big|_{x = \\lambda h_i} = -\\frac{d f(x)}{d x}\\Big|_{x = \\lambda h_i} \\lambda \\sigma_j \\sigma_i\n",
    "$$\n",
    "\n",
    "And the update of weights to minimise the function would be:\n",
    "\n",
    "$$\n",
    "\\Delta w_{ij} = \\lambda \\frac{d f(x)}{d x}\\Big|_{x = \\lambda h_i} \\sigma_j \\sigma_i\n",
    "$$\n",
    "\n",
    "$$\n",
    "\\Delta W = \\lambda \\big(\\frac{d f(x)}{d x}\\Big|_{x = \\lambda h} \\odot \\sigma\\big) \\sigma^T\n",
    "$$"
   ]
  },
  {
   "cell_type": "markdown",
   "metadata": {},
   "source": [
    "if $f(x) = x$, then\n",
    "$$\n",
    "\\Delta w_{ij} = \\lambda \\sigma_i \\sigma_j\n",
    "$$\n",
    "\n",
    "$$\n",
    "\\Delta W = \\lambda \\sigma \\sigma^T\n",
    "$$ \n",
    "Which is exactly what Hebbian learning does!"
   ]
  },
  {
   "cell_type": "markdown",
   "metadata": {},
   "source": [
    "if $f(x) = tanh(x)$, then\n",
    "\n",
    "$$\n",
    "\\Delta w_{ij} = \\lambda \\big(1 - tanh(\\lambda h_i)^2\\big) \\sigma_i \\sigma_j\n",
    "$$\n",
    "\n",
    "$$\n",
    "\\Delta W = \\lambda \\Big((1 - tanh(\\lambda h)^2) \\odot \\sigma \\Big)\\sigma^T\n",
    "$$ "
   ]
  },
  {
   "cell_type": "code",
   "execution_count": 31,
   "metadata": {},
   "outputs": [
    {
     "data": {
      "image/png": "[encoded data removed]",
      "text/plain": [
       "<Figure size 432x288 with 6 Axes>"
      ]
     },
     "metadata": {
      "needs_background": "light"
     },
     "output_type": "display_data"
    }
   ],
   "source": [
    "from visualisation import run_visualisation\n",
    "learning_params = {'rule':'DescentL2', 'incremental' : True, 'sc' : True, 'symm' : True, 'tol' : 1e-2, 'lambda' : 0.5}\n",
    "run_visualisation(options=learning_params, flips = 14, sync = True, time = 10, random_patterns = False)"
   ]
  },
  {
   "cell_type": "markdown",
   "metadata": {},
   "source": [
    "# DescentCrossentropy"
   ]
  },
  {
   "cell_type": "markdown",
   "metadata": {},
   "source": [
    "let's now define a similarity measure as: \n",
    "$d(x,y) = \\sum_i -\\frac{y_i+1}{2}log(\\frac{x_i+1}{2}) - \\frac{1-y_i}{2}log(\\frac{1-x_i}{2})$, so\n",
    "\n",
    "$$\n",
    "E = -\\sum_i \\frac{\\sigma_i+1}{2}log\\Big(\\frac{f(\\lambda h_i)+1}{2}\\Big) + \\frac{1-\\sigma_i}{2}log\\Big(\\frac{1-f(\\lambda h_i)}{2}\\Big)\n",
    "$$\n",
    "\n",
    "Then minimising the gradient of the function $E$ with respect to $w_{ij}$ becomes:\n",
    "\n",
    "\n",
    "$$\n",
    "\\frac{d E}{d w_{ij}} = -\\frac{\\sigma_i+1}{2} \\Big(\\frac{2}{f(\\lambda h_i)+1}\\Big)\\frac{1}{2} \\lambda \\frac{d f(x)}{d x}\\Big|_{x = \\lambda h_i}\\sigma_j - \\frac{1-\\sigma_i}{2} \\Big(\\frac{2}{1-f(\\lambda h_i)}\\Big)\\frac{1}{2} \\lambda \\frac{d f(x)}{d x}\\Big|_{x = \\lambda h_i}\\sigma_j =  \\frac{\\lambda}{2} \\frac{d f(x)}{d x}\\Big|_{x = \\lambda h_i}\\sigma_j \\Big( (\\sigma_i+1)\\Big(\\frac{1}{1+f(\\lambda h_i)}\\Big)+ (1-\\sigma_i)\\Big(\\frac{1}{1-f(\\lambda h_i)}\\Big)\\Big) = \\frac{\\lambda}{2} \\frac{d f(x)}{d x} \\Big|_{x = \\lambda h_i}\\sigma_j\\frac{((\\sigma_i+1)(1-f(\\lambda h_i)) + (1-\\sigma_i)(1+f(\\lambda h_i))}{(1-f^2(\\lambda h_i))} = \\frac{\\lambda}{2(1-f^2(\\lambda h_i))} \\frac{d f(x)}{d x}\\Big|_{x = \\lambda h_i} \\sigma_j \\big(\\sigma_i+1 - f(\\lambda h_i)\\sigma_i-f(\\lambda h_i) + 1-\\sigma_i - f(\\lambda h_i)\\sigma_i + f(\\lambda h_i)\\big) = \\frac{\\lambda}{2(1-f^2(\\lambda h_i))} \\frac{d f(x)}{d x}\\Big|_{x = \\lambda h_i} \\sigma_j \\big(2 -  2f(\\lambda h_i)\\sigma_i\\big) = \\frac{\\lambda (1 -  f(\\lambda h_i)\\sigma_i) }{(1-f^2(\\lambda h_i))} \\sigma_j \\frac{d f(x)}{d x}\\Big|_{x = \\lambda h_i}\n",
    "$$\n",
    "\n",
    "in short:\n",
    "$$\n",
    "\\frac{d E}{d w_{ij}}  = \\lambda \\frac{ (1 -  f(\\lambda h_i)\\sigma_i) }{(1-f^2(\\lambda h_i))} \\sigma_j \\frac{d f(x)}{d x}\\Big|_{x = \\lambda h_i}\n",
    "$$\n",
    "\n",
    "if we consider $f(x) = x$:\n",
    "\n",
    "$$\\Delta w_{ij} = -\\lambda \\frac{ (1 -  \\lambda h_i\\sigma_i) }{(1-(\\lambda h_i)^2)} \\sigma_j$$\n",
    "\n",
    "and if $f(x) = tanh(x)$:\n",
    "\n",
    "$$\\Delta w_{ij} = -\\lambda (1 -  tanh(\\lambda h_i)\\sigma_i) \\sigma_j$$\n"
   ]
  },
  {
   "cell_type": "code",
   "execution_count": 35,
   "metadata": {},
   "outputs": [
    {
     "data": {
      "image/png": "[encoded data removed]",
      "text/plain": [
       "<Figure size 432x288 with 6 Axes>"
      ]
     },
     "metadata": {
      "needs_background": "light"
     },
     "output_type": "display_data"
    }
   ],
   "source": [
    "from visualisation import run_visualisation\n",
    "learning_params = {'rule':'DescentOverlap', 'incremental' : True, 'sc' : True, 'symm' : True, 'num_it' : 100, 'lambda' : 0.5}\n",
    "run_visualisation(options=learning_params, flips = 50, sync = False, time = 1, random_patterns = False)"
   ]
  },
  {
   "cell_type": "markdown",
   "metadata": {},
   "source": [
    "# Comparison of the performance of various rules"
   ]
  },
  {
   "cell_type": "markdown",
   "metadata": {},
   "source": [
    "<img src='../imgs_for_jupyter/flips_and_patterns_Hebb_sc_100.png' width=\"1000\" height=\"1000\" align=\"center\"/>\n",
    "<img src='../imgs_for_jupyter/flips_and_patterns_pseudoinverse_sc_100.png' width=\"1000\" height=\"1000\" align=\"center\"/>\n",
    "<img src='../imgs_for_jupyter/flips_and_patterns_StorkeyAsymm_sc_100.png' width=\"1000\" height=\"1000\" align=\"center\"/>\n",
    "<img src='../imgs_for_jupyter/flips_and_patterns_Storkey_sc_100.png' width=\"1000\" height=\"1000\" align=\"center\"/>"
   ]
  },
  {
   "cell_type": "markdown",
   "metadata": {},
   "source": [
    "Further topics to explore:\n",
    "- Boltzmann Machines\n",
    "- Continuous Hopfield Network\n",
    "- Storing Cycles\n",
    "- Nonlinear Hebbian learning"
   ]
  },
  {
   "cell_type": "code",
   "execution_count": 5,
   "metadata": {},
   "outputs": [
    {
     "ename": "TypeError",
     "evalue": "fun() missing 1 required positional argument: 'dim'",
     "output_type": "error",
     "traceback": [
      "\u001b[0;31m---------------------------------------------------------------------------\u001b[0m",
      "\u001b[0;31mTypeError\u001b[0m                                 Traceback (most recent call last)",
      "\u001b[0;32m<ipython-input-5-6374955790e3>\u001b[0m in \u001b[0;36m<module>\u001b[0;34m\u001b[0m\n\u001b[1;32m      3\u001b[0m \u001b[0;34m\u001b[0m\u001b[0m\n\u001b[1;32m      4\u001b[0m \u001b[0mkwargs\u001b[0m \u001b[0;34m=\u001b[0m \u001b[0;34m{\u001b[0m\u001b[0;34m'key'\u001b[0m \u001b[0;34m:\u001b[0m \u001b[0;36m1\u001b[0m\u001b[0;34m}\u001b[0m\u001b[0;34m\u001b[0m\u001b[0;34m\u001b[0m\u001b[0m\n\u001b[0;32m----> 5\u001b[0;31m \u001b[0mprint\u001b[0m\u001b[0;34m(\u001b[0m\u001b[0mfun\u001b[0m\u001b[0;34m(\u001b[0m\u001b[0;36m10\u001b[0m\u001b[0;34m,\u001b[0m \u001b[0;34m**\u001b[0m\u001b[0mkwargs\u001b[0m\u001b[0;34m)\u001b[0m\u001b[0;34m)\u001b[0m\u001b[0;34m\u001b[0m\u001b[0;34m\u001b[0m\u001b[0m\n\u001b[0m",
      "\u001b[0;31mTypeError\u001b[0m: fun() missing 1 required positional argument: 'dim'"
     ]
    }
   ],
   "source": [
    "def fun(x, key, dim):\n",
    "    return x\n",
    "\n",
    "kwargs = {'key' : 1,'dim' : 2, 'am' : 3}\n",
    "print(fun(10, **kwargs))"
   ]
  },
  {
   "cell_type": "code",
   "execution_count": null,
   "metadata": {},
   "outputs": [],
   "source": []
  }
 ],
 "metadata": {
  "kernelspec": {
   "display_name": "Python 3",
   "language": "python",
   "name": "python3"
  },
  "language_info": {
   "codemirror_mode": {
    "name": "ipython",
    "version": 3
   },
   "file_extension": ".py",
   "mimetype": "text/x-python",
   "name": "python",
   "nbconvert_exporter": "python",
   "pygments_lexer": "ipython3",
   "version": "3.7.3"
  }
 },
 "nbformat": 4,
 "nbformat_minor": 2
}
